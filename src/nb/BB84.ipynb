{
  "cells": [
    {
      "cell_type": "code",
      "execution_count": 2,
      "metadata": {
        "colab": {
          "base_uri": "https://localhost:8080/"
        },
        "id": "MLAQItAkg7xI",
        "outputId": "fab29369-ffee-4b11-c061-baa126bc9b58"
      },
      "outputs": [
        {
          "name": "stdout",
          "output_type": "stream",
          "text": [
            "Collecting qiskit\n",
            "  Downloading qiskit-2.1.2-cp39-abi3-manylinux_2_17_x86_64.manylinux2014_x86_64.whl.metadata (12 kB)\n",
            "Collecting rustworkx>=0.15.0 (from qiskit)\n",
            "  Using cached rustworkx-0.17.1-cp39-abi3-manylinux_2_17_x86_64.manylinux2014_x86_64.whl.metadata (10 kB)\n",
            "Collecting numpy<3,>=1.17 (from qiskit)\n",
            "  Using cached numpy-2.3.2-cp312-cp312-manylinux_2_27_x86_64.manylinux_2_28_x86_64.whl.metadata (62 kB)\n",
            "Collecting scipy>=1.5 (from qiskit)\n",
            "  Using cached scipy-1.16.1-cp312-cp312-manylinux2014_x86_64.manylinux_2_17_x86_64.whl.metadata (61 kB)\n",
            "Collecting dill>=0.3 (from qiskit)\n",
            "  Using cached dill-0.4.0-py3-none-any.whl.metadata (10 kB)\n",
            "Collecting stevedore>=3.0.0 (from qiskit)\n",
            "  Downloading stevedore-5.5.0-py3-none-any.whl.metadata (2.2 kB)\n",
            "Collecting typing-extensions (from qiskit)\n",
            "  Downloading typing_extensions-4.15.0-py3-none-any.whl.metadata (3.3 kB)\n",
            "Downloading qiskit-2.1.2-cp39-abi3-manylinux_2_17_x86_64.manylinux2014_x86_64.whl (7.4 MB)\n",
            "\u001b[2K   \u001b[90m━━━━━━━━━━━━━━━━━━━━━━━━━━━━━━━━━━━━━━━━\u001b[0m \u001b[32m7.4/7.4 MB\u001b[0m \u001b[31m2.9 MB/s\u001b[0m  \u001b[33m0:00:02\u001b[0m eta \u001b[36m0:00:01\u001b[0m\n",
            "\u001b[?25hUsing cached numpy-2.3.2-cp312-cp312-manylinux_2_27_x86_64.manylinux_2_28_x86_64.whl (16.6 MB)\n",
            "Using cached dill-0.4.0-py3-none-any.whl (119 kB)\n",
            "Using cached rustworkx-0.17.1-cp39-abi3-manylinux_2_17_x86_64.manylinux2014_x86_64.whl (2.2 MB)\n",
            "Using cached scipy-1.16.1-cp312-cp312-manylinux2014_x86_64.manylinux_2_17_x86_64.whl (35.2 MB)\n",
            "Downloading stevedore-5.5.0-py3-none-any.whl (49 kB)\n",
            "Downloading typing_extensions-4.15.0-py3-none-any.whl (44 kB)\n",
            "Installing collected packages: typing-extensions, stevedore, numpy, dill, scipy, rustworkx, qiskit\n",
            "\u001b[2K   \u001b[90m━━━━━━━━━━━━━━━━━━━━━━━━━━━━━━━━━━━━━━━━\u001b[0m \u001b[32m7/7\u001b[0m [qiskit]2m6/7\u001b[0m [qiskit]kx]\n",
            "\u001b[1A\u001b[2KSuccessfully installed dill-0.4.0 numpy-2.3.2 qiskit-2.1.2 rustworkx-0.17.1 scipy-1.16.1 stevedore-5.5.0 typing-extensions-4.15.0\n",
            "Note: you may need to restart the kernel to use updated packages.\n"
          ]
        }
      ],
      "source": [
        "pip install qiskit"
      ]
    },
    {
      "cell_type": "code",
      "execution_count": 3,
      "metadata": {
        "colab": {
          "base_uri": "https://localhost:8080/"
        },
        "id": "rj8nlV6rCyRW",
        "outputId": "f3109da0-a90a-4709-9448-81f189dc0b30"
      },
      "outputs": [
        {
          "name": "stdout",
          "output_type": "stream",
          "text": [
            "Collecting qiskit_ibm_runtime\n",
            "  Downloading qiskit_ibm_runtime-0.41.1-py3-none-any.whl.metadata (21 kB)\n",
            "Collecting requests>=2.19 (from qiskit_ibm_runtime)\n",
            "  Downloading requests-2.32.5-py3-none-any.whl.metadata (4.9 kB)\n",
            "Collecting requests-ntlm>=1.1.0 (from qiskit_ibm_runtime)\n",
            "  Using cached requests_ntlm-1.3.0-py3-none-any.whl.metadata (2.4 kB)\n",
            "Requirement already satisfied: numpy>=1.13 in ./.venv/lib/python3.12/site-packages (from qiskit_ibm_runtime) (2.3.2)\n",
            "Collecting urllib3>=1.21.1 (from qiskit_ibm_runtime)\n",
            "  Using cached urllib3-2.5.0-py3-none-any.whl.metadata (6.5 kB)\n",
            "Requirement already satisfied: python-dateutil>=2.8.0 in ./.venv/lib/python3.12/site-packages (from qiskit_ibm_runtime) (2.9.0.post0)\n",
            "Collecting ibm-platform-services>=0.22.6 (from qiskit_ibm_runtime)\n",
            "  Downloading ibm_platform_services-0.68.2-py3-none-any.whl.metadata (9.0 kB)\n",
            "Collecting pydantic>=2.5.0 (from qiskit_ibm_runtime)\n",
            "  Using cached pydantic-2.11.7-py3-none-any.whl.metadata (67 kB)\n",
            "Requirement already satisfied: qiskit>=1.4.1 in ./.venv/lib/python3.12/site-packages (from qiskit_ibm_runtime) (2.1.2)\n",
            "Requirement already satisfied: packaging in ./.venv/lib/python3.12/site-packages (from qiskit_ibm_runtime) (25.0)\n",
            "Collecting ibm_cloud_sdk_core<4.0.0,>=3.24.2 (from ibm-platform-services>=0.22.6->qiskit_ibm_runtime)\n",
            "  Using cached ibm_cloud_sdk_core-3.24.2-py3-none-any.whl.metadata (8.7 kB)\n",
            "Collecting PyJWT<3.0.0,>=2.10.1 (from ibm_cloud_sdk_core<4.0.0,>=3.24.2->ibm-platform-services>=0.22.6->qiskit_ibm_runtime)\n",
            "  Using cached PyJWT-2.10.1-py3-none-any.whl.metadata (4.0 kB)\n",
            "Requirement already satisfied: six>=1.5 in ./.venv/lib/python3.12/site-packages (from python-dateutil>=2.8.0->qiskit_ibm_runtime) (1.17.0)\n",
            "Collecting charset_normalizer<4,>=2 (from requests>=2.19->qiskit_ibm_runtime)\n",
            "  Downloading charset_normalizer-3.4.3-cp312-cp312-manylinux2014_x86_64.manylinux_2_17_x86_64.manylinux_2_28_x86_64.whl.metadata (36 kB)\n",
            "Collecting idna<4,>=2.5 (from requests>=2.19->qiskit_ibm_runtime)\n",
            "  Using cached idna-3.10-py3-none-any.whl.metadata (10 kB)\n",
            "Collecting certifi>=2017.4.17 (from requests>=2.19->qiskit_ibm_runtime)\n",
            "  Downloading certifi-2025.8.3-py3-none-any.whl.metadata (2.4 kB)\n",
            "Collecting annotated-types>=0.6.0 (from pydantic>=2.5.0->qiskit_ibm_runtime)\n",
            "  Using cached annotated_types-0.7.0-py3-none-any.whl.metadata (15 kB)\n",
            "Collecting pydantic-core==2.33.2 (from pydantic>=2.5.0->qiskit_ibm_runtime)\n",
            "  Using cached pydantic_core-2.33.2-cp312-cp312-manylinux_2_17_x86_64.manylinux2014_x86_64.whl.metadata (6.8 kB)\n",
            "Requirement already satisfied: typing-extensions>=4.12.2 in ./.venv/lib/python3.12/site-packages (from pydantic>=2.5.0->qiskit_ibm_runtime) (4.15.0)\n",
            "Collecting typing-inspection>=0.4.0 (from pydantic>=2.5.0->qiskit_ibm_runtime)\n",
            "  Using cached typing_inspection-0.4.1-py3-none-any.whl.metadata (2.6 kB)\n",
            "Requirement already satisfied: rustworkx>=0.15.0 in ./.venv/lib/python3.12/site-packages (from qiskit>=1.4.1->qiskit_ibm_runtime) (0.17.1)\n",
            "Requirement already satisfied: scipy>=1.5 in ./.venv/lib/python3.12/site-packages (from qiskit>=1.4.1->qiskit_ibm_runtime) (1.16.1)\n",
            "Requirement already satisfied: dill>=0.3 in ./.venv/lib/python3.12/site-packages (from qiskit>=1.4.1->qiskit_ibm_runtime) (0.4.0)\n",
            "Requirement already satisfied: stevedore>=3.0.0 in ./.venv/lib/python3.12/site-packages (from qiskit>=1.4.1->qiskit_ibm_runtime) (5.5.0)\n",
            "Collecting cryptography>=1.3 (from requests-ntlm>=1.1.0->qiskit_ibm_runtime)\n",
            "  Downloading cryptography-45.0.6-cp311-abi3-manylinux_2_34_x86_64.whl.metadata (5.7 kB)\n",
            "Collecting pyspnego>=0.4.0 (from requests-ntlm>=1.1.0->qiskit_ibm_runtime)\n",
            "  Using cached pyspnego-0.11.2-py3-none-any.whl.metadata (5.4 kB)\n",
            "Collecting cffi>=1.14 (from cryptography>=1.3->requests-ntlm>=1.1.0->qiskit_ibm_runtime)\n",
            "  Using cached cffi-1.17.1-cp312-cp312-manylinux_2_17_x86_64.manylinux2014_x86_64.whl.metadata (1.5 kB)\n",
            "Collecting pycparser (from cffi>=1.14->cryptography>=1.3->requests-ntlm>=1.1.0->qiskit_ibm_runtime)\n",
            "  Using cached pycparser-2.22-py3-none-any.whl.metadata (943 bytes)\n",
            "Downloading qiskit_ibm_runtime-0.41.1-py3-none-any.whl (1.4 MB)\n",
            "\u001b[2K   \u001b[90m━━━━━━━━━━━━━━━━━━━━━━━━━━━━━━━━━━━━━━━━\u001b[0m \u001b[32m1.4/1.4 MB\u001b[0m \u001b[31m2.2 MB/s\u001b[0m  \u001b[33m0:00:00\u001b[0m eta \u001b[36m0:00:01\u001b[0m\n",
            "\u001b[?25hDownloading ibm_platform_services-0.68.2-py3-none-any.whl (366 kB)\n",
            "Using cached ibm_cloud_sdk_core-3.24.2-py3-none-any.whl (75 kB)\n",
            "Using cached PyJWT-2.10.1-py3-none-any.whl (22 kB)\n",
            "Downloading requests-2.32.5-py3-none-any.whl (64 kB)\n",
            "Downloading charset_normalizer-3.4.3-cp312-cp312-manylinux2014_x86_64.manylinux_2_17_x86_64.manylinux_2_28_x86_64.whl (151 kB)\n",
            "Using cached idna-3.10-py3-none-any.whl (70 kB)\n",
            "Using cached urllib3-2.5.0-py3-none-any.whl (129 kB)\n",
            "Downloading certifi-2025.8.3-py3-none-any.whl (161 kB)\n",
            "Using cached pydantic-2.11.7-py3-none-any.whl (444 kB)\n",
            "Using cached pydantic_core-2.33.2-cp312-cp312-manylinux_2_17_x86_64.manylinux2014_x86_64.whl (2.0 MB)\n",
            "Using cached annotated_types-0.7.0-py3-none-any.whl (13 kB)\n",
            "Using cached requests_ntlm-1.3.0-py3-none-any.whl (6.6 kB)\n",
            "Downloading cryptography-45.0.6-cp311-abi3-manylinux_2_34_x86_64.whl (4.5 MB)\n",
            "\u001b[2K   \u001b[90m━━━━━━━━━━━━━━━━━━━━━━━━━━━━━━━━━━━━━━━━\u001b[0m \u001b[32m4.5/4.5 MB\u001b[0m \u001b[31m4.6 MB/s\u001b[0m  \u001b[33m0:00:01\u001b[0m eta \u001b[36m0:00:01\u001b[0m\n",
            "\u001b[?25hUsing cached cffi-1.17.1-cp312-cp312-manylinux_2_17_x86_64.manylinux2014_x86_64.whl (479 kB)\n",
            "Using cached pyspnego-0.11.2-py3-none-any.whl (130 kB)\n",
            "Using cached typing_inspection-0.4.1-py3-none-any.whl (14 kB)\n",
            "Using cached pycparser-2.22-py3-none-any.whl (117 kB)\n",
            "Installing collected packages: urllib3, typing-inspection, PyJWT, pydantic-core, pycparser, idna, charset_normalizer, certifi, annotated-types, requests, pydantic, cffi, ibm_cloud_sdk_core, cryptography, pyspnego, ibm-platform-services, requests-ntlm, qiskit_ibm_runtime\n",
            "\u001b[2K   \u001b[90m━━━━━━━━━━━━━━━━━━━━━━━━━━━━━━━━━━━━━━━━\u001b[0m \u001b[32m18/18\u001b[0m [qiskit_ibm_runtime]iskit_ibm_runtime]es]\n",
            "\u001b[1A\u001b[2KSuccessfully installed PyJWT-2.10.1 annotated-types-0.7.0 certifi-2025.8.3 cffi-1.17.1 charset_normalizer-3.4.3 cryptography-45.0.6 ibm-platform-services-0.68.2 ibm_cloud_sdk_core-3.24.2 idna-3.10 pycparser-2.22 pydantic-2.11.7 pydantic-core-2.33.2 pyspnego-0.11.2 qiskit_ibm_runtime-0.41.1 requests-2.32.5 requests-ntlm-1.3.0 typing-inspection-0.4.1 urllib3-2.5.0\n",
            "Note: you may need to restart the kernel to use updated packages.\n"
          ]
        }
      ],
      "source": [
        "pip install qiskit_ibm_runtime"
      ]
    },
    {
      "cell_type": "code",
      "execution_count": 4,
      "metadata": {
        "colab": {
          "base_uri": "https://localhost:8080/"
        },
        "id": "HlJMgdIOhD22",
        "outputId": "edf19684-e03c-4a86-e7c8-70d1f365bf09"
      },
      "outputs": [
        {
          "name": "stdout",
          "output_type": "stream",
          "text": [
            "Collecting qiskit_aer\n",
            "  Using cached qiskit_aer-0.17.1-cp312-cp312-manylinux_2_17_x86_64.manylinux2014_x86_64.whl.metadata (8.3 kB)\n",
            "Requirement already satisfied: qiskit>=1.1.0 in ./.venv/lib/python3.12/site-packages (from qiskit_aer) (2.1.2)\n",
            "Requirement already satisfied: numpy>=1.16.3 in ./.venv/lib/python3.12/site-packages (from qiskit_aer) (2.3.2)\n",
            "Requirement already satisfied: scipy>=1.0 in ./.venv/lib/python3.12/site-packages (from qiskit_aer) (1.16.1)\n",
            "Requirement already satisfied: psutil>=5 in ./.venv/lib/python3.12/site-packages (from qiskit_aer) (7.0.0)\n",
            "Requirement already satisfied: python-dateutil>=2.8.0 in ./.venv/lib/python3.12/site-packages (from qiskit_aer) (2.9.0.post0)\n",
            "Requirement already satisfied: six>=1.5 in ./.venv/lib/python3.12/site-packages (from python-dateutil>=2.8.0->qiskit_aer) (1.17.0)\n",
            "Requirement already satisfied: rustworkx>=0.15.0 in ./.venv/lib/python3.12/site-packages (from qiskit>=1.1.0->qiskit_aer) (0.17.1)\n",
            "Requirement already satisfied: dill>=0.3 in ./.venv/lib/python3.12/site-packages (from qiskit>=1.1.0->qiskit_aer) (0.4.0)\n",
            "Requirement already satisfied: stevedore>=3.0.0 in ./.venv/lib/python3.12/site-packages (from qiskit>=1.1.0->qiskit_aer) (5.5.0)\n",
            "Requirement already satisfied: typing-extensions in ./.venv/lib/python3.12/site-packages (from qiskit>=1.1.0->qiskit_aer) (4.15.0)\n",
            "Using cached qiskit_aer-0.17.1-cp312-cp312-manylinux_2_17_x86_64.manylinux2014_x86_64.whl (12.4 MB)\n",
            "Installing collected packages: qiskit_aer\n",
            "Successfully installed qiskit_aer-0.17.1\n",
            "Note: you may need to restart the kernel to use updated packages.\n"
          ]
        }
      ],
      "source": [
        "pip install qiskit_aer"
      ]
    },
    {
      "cell_type": "markdown",
      "metadata": {
        "id": "Gz2dV66_jMid"
      },
      "source": [
        "Modules:\n",
        "  - QuantumCircuit\n",
        "  - AerSimulator\n",
        "  - backend.run\n",
        "  - transpile (optional)\n",
        "  - random number generator (Python or Qiskit tools)"
      ]
    },
    {
      "cell_type": "code",
      "execution_count": null,
      "metadata": {
        "id": "anXHraSshQOx"
      },
      "outputs": [],
      "source": [
        "from qiskit import QuantumCircuit, ClassicalRegister, QuantumRegister, transpile\n",
        "from qiskit_aer import AerSimulator, AerProvider\n",
        "from qiskit_ibm_runtime.fake_provider import FakeKyoto\n",
        "import random\n",
        "\n",
        "''' Noise Model '''\n",
        "import numpy as np #For random numbers\n",
        "from qiskit_aer.noise import NoiseModel, depolarizing_error\n",
        "\n",
        "''' Hashing library '''\n",
        "from hashlib import sha256\n",
        "\n",
        "''' For testing '''\n",
        "import unittest"
      ]
    },
    {
      "cell_type": "markdown",
      "metadata": {
        "id": "xPrCNw_CqNH9"
      },
      "source": [
        "#High Level Pseusocode\n",
        "\t1.\tAlice generates random bits + bases\n",
        "\t2.\tBob generates random bases\n",
        "\t3.\tAlice encodes bits using her bases\n",
        "\t4.\tBob measures using his bases\n",
        "\t5.\tCompare bases over classical channel\n",
        "\t6.\tDiscard mismatched basis results\n",
        "\t7.\tUse matching bits as secret key\n"
      ]
    },
    {
      "cell_type": "code",
      "execution_count": null,
      "metadata": {
        "id": "1ElTbOvljW2I"
      },
      "outputs": [],
      "source": [
        "'''\n",
        "   Args:\n",
        "    n (int) : A length of bitstring\n",
        "\n",
        "  Return:\n",
        "    (str) : A random bitsting length n\n",
        "'''\n",
        "\n",
        "def random_bits_string(n):\n",
        "  return ''.join(random.choice('01') for _ in range(n))"
      ]
    },
    {
      "cell_type": "code",
      "execution_count": null,
      "metadata": {
        "id": "HX64E3VnlwPQ"
      },
      "outputs": [],
      "source": [
        "'''\n",
        "  Args:\n",
        "    n (int) : A length of sequence of basis\n",
        "\n",
        "  Return:\n",
        "    (str) : A random sequence of basis length n\n",
        "'''\n",
        "\n",
        "def random_basis(n):\n",
        "  return ''.join(random.choice('ZX') for _ in range(n))"
      ]
    },
    {
      "cell_type": "code",
      "execution_count": null,
      "metadata": {
        "id": "agVMV9R2mykD"
      },
      "outputs": [],
      "source": [
        "'''\n",
        "  Args:\n",
        "    bits (str) : Alice's bitstring which to be encoded\n",
        "\n",
        "  Return:\n",
        "    (QuantumCircuit) : Encoded qubit\n",
        "'''\n",
        "\n",
        "def encode_qubits(bits):\n",
        "  qreg = QuantumRegister(len(bits))\n",
        "  creg = ClassicalRegister(len(bits))\n",
        "  circuit = QuantumCircuit(qreg, creg)\n",
        "\n",
        "  # enumerate() does manage index number and its value pair all them once in input data structure\n",
        "  # index i and data bit in bits\n",
        "  \n",
        "  for i,bit in enumerate(bits):\n",
        "    if bit == '1':\n",
        "      circuit.x(qreg[i])\n",
        "  print(circuit.to_instruction())\n",
        "  return circuit"
      ]
    },
    {
      "cell_type": "code",
      "execution_count": null,
      "metadata": {
        "id": "mP7_FiOoFmgd"
      },
      "outputs": [],
      "source": [
        "'''\n",
        "  Args:\n",
        "    circuit (QuantumCircuit) : The qubit would be measured by Bob\n",
        "    bob_basis (str) : The bases Bob use to measure the qubit from Alice\n",
        "\n",
        "  Return:\n",
        "    (QuantumCircuit) : The circuit which is added measurement devices\n",
        "'''\n",
        "\n",
        "def measure_qubits(circuit, bob_basis):\n",
        "  for i in range(len(bob_basis)):\n",
        "    if bob_basis[i] == 'X':\n",
        "      circuit.h(i)\n",
        "\n",
        "  circuit.measure_all(inplace=True)\n",
        "\n",
        "  return circuit"
      ]
    },
    {
      "cell_type": "code",
      "execution_count": null,
      "metadata": {
        "id": "erq-4YswG0YA"
      },
      "outputs": [],
      "source": [
        "'''\n",
        " Args:\n",
        "    circuit (QuantumCircuit) : The qubit would be transpiled\n",
        "    bob_bits (list) : An empty list, would stroe measurement data\n",
        "\n",
        "  Return:\n",
        "    (list) : list of measurement data regarded its counts\n",
        "'''\n",
        "\n",
        "def run_simulator(circuit, bob_bits, shot=1024):\n",
        "  \n",
        "  # For invoking fake provider\n",
        "  #backend = FakeKyoto()\n",
        "  #simulator = AerSimulator.from_backend(backend) #initialize aer-simulator from backend\n",
        "  \n",
        "  # Normal AerSimulator\n",
        "  simulator = AerSimulator()\n",
        "  transpiled = transpile(circuit, simulator)\n",
        "  result = simulator.run(transpiled, memory=True, shot=shot).result()\n",
        "\n",
        "  # Obtain measurement data into bob_bits\n",
        "  memory = result.get_memory(transpiled)\n",
        "  bob_bits.append(memory)\n",
        "\n",
        "  return result.get_counts(transpiled)"
      ]
    },
    {
      "cell_type": "code",
      "execution_count": null,
      "metadata": {
        "id": "MnwOCXcyLBpQ"
      },
      "outputs": [],
      "source": [
        "'''\n",
        "  Args:\n",
        "    circuit (QuantumCircuit) : The qubit would be transpiled\n",
        "    bob_bits (list) : An empty list, would stroe measurement data\n",
        "\n",
        "  Return:\n",
        "    (list) : list of measurement data regarded its counts\n",
        "'''\n",
        "\n",
        "def run_simulator_with_noise(circuit,bob_bits,shot=1024):\n",
        "  # Create NoiseModel\n",
        "  error = depolarizing_error(0.5,1)\n",
        "  noise_model = NoiseModel()\n",
        "  noise_model.add_all_qubit_quantum_error(error,'x')\n",
        "\n",
        "  # AerSimulator with noise\n",
        "  simulator = AerSimulator(noise_model=noise_model)\n",
        "  transpiled = transpile(circuit, simulator)\n",
        "  result = simulator.run(transpiled, memory=True,shot=shot).result()\n",
        "\n",
        "  # Obtain measurement data into bob_bits\n",
        "  memory = result.get_memory(transpiled)\n",
        "  bob_bits.append(memory)\n",
        "\n",
        "  return result.get_counts(transpiled)\n"
      ]
    },
    {
      "cell_type": "code",
      "execution_count": null,
      "metadata": {
        "id": "_8yB41bxH3Pe"
      },
      "outputs": [],
      "source": [
        "'''\n",
        "Args:\n",
        "    alice_basis (str) : Alice's basis\n",
        "    bob_basis (str) : Bob's basis\n",
        "    alice_bits (str) : Initial Alice's bits\n",
        "\n",
        "  Return:\n",
        "    (str) : The shared secret key\n",
        "'''\n",
        "\n",
        "def sift_keys(alice_basis, bob_basis, alice_bits):\n",
        "  shared_key = ''\n",
        "  for i in range(len(alice_basis)):\n",
        "    if alice_basis[i] == bob_basis[i]:\n",
        "      shared_key += alice_bits[i]\n",
        "  return shared_key"
      ]
    },
    {
      "cell_type": "code",
      "execution_count": null,
      "metadata": {
        "id": "Le9EJH00rtCH"
      },
      "outputs": [],
      "source": [
        "'''\n",
        "  Calculates the Quantum Bit Error Rate (QBER).\n",
        "\n",
        "  Args:\n",
        "    alice_bits (str) : Alice's generated bit string.\n",
        "    bob_measurements (list) : A list of measurement outcomes from Bob's side\n",
        "                             (each element is a string representing a shot).\n",
        "    alice_bases (str) : Alice's chosen bases string.\n",
        "    bob_bases (str) : Bob's chosen bases string.\n",
        "\n",
        "  Returns:\n",
        "    (float) : The calculated QBER.\n",
        "'''\n",
        "\n",
        "def qber(alice_bits, bob_measurements, alice_basis, bob_basis):\n",
        "  matching_basis_bits_count = 0\n",
        "  mismatched_bits_count = 0\n",
        "\n",
        "  # Iterate through each shot\n",
        "  for shot_measurement in bob_measurements:\n",
        "    # Iterate through each qubit in the shot\n",
        "    for i in range(len(alice_bits)):\n",
        "      # Check if bases match for this qubit\n",
        "      if alice_basis[i] == bob_basis[i]:\n",
        "        matching_basis_bits_count += 1\n",
        "        bob_measured_bit = shot_measurement[i]\n",
        "        # Compare Alice's bit with Bob's measured bit for this qubit in this shot\n",
        "        if alice_bits[i] != bob_measured_bit[i]:\n",
        "          mismatched_bits_count += 1\n",
        "\n",
        "  if matching_basis_bits_count == 0:\n",
        "    # Avoid division by zero if no bases match\n",
        "    return 0.0\n",
        "  print(f\"Mismatched bits count: {mismatched_bits_count}\")\n",
        "  print(f\"Matching bases bits count: {matching_basis_bits_count}\")\n",
        "\n",
        "  return mismatched_bits_count / matching_basis_bits_count"
      ]
    },
    {
      "cell_type": "code",
      "execution_count": null,
      "metadata": {
        "id": "so-r5X7TJjrr"
      },
      "outputs": [],
      "source": [
        "'''\n",
        "  Return:\n",
        "    key (str) : The probably secure key\n",
        "'''\n",
        "def bb84():\n",
        "  n = 29\n",
        "  alice_bits = random_bits_string(n)\n",
        "  alice_basis = random_basis(n)\n",
        "  bob_basis = random_basis(n)\n",
        "\n",
        "  circuit = encode_qubits(alice_bits)\n",
        "  bob_measurement = measure_qubits(circuit, bob_basis)\n",
        "  bob_bits = []\n",
        "  #results = run_simulator(bob_measurement, bob_bits) # without NoiseModel\n",
        "  results = run_simulator_with_noise(bob_measurement,bob_bits) # with NoiseModel\n",
        "\n",
        "  # Obtaining the secure secret key\n",
        "  key = sift_keys(alice_basis, bob_basis, alice_bits)\n",
        "\n",
        "  # Transpilation(optional)\n",
        "  transpiled = transpile(bob_measurement, AerSimulator())\n",
        "\n",
        "  # Result\n",
        "  print(\"QBER: \" + str(qber(alice_bits, bob_bits, alice_basis, bob_basis)))\n",
        "\n",
        "  return key if qber(alice_bits, bob_bits, alice_basis, bob_basis) < 0.2 else \"None\""
      ]
    },
    {
      "cell_type": "code",
      "execution_count": null,
      "metadata": {
        "id": "NgMFrRZVtdHk"
      },
      "outputs": [],
      "source": [
        "'''\n",
        "  Arg:\n",
        "    key (str) : The secret key\n",
        "  Return:\n",
        "    (str) : The encoded key by sha256 hash function\n",
        "'''\n",
        "\n",
        "def amplification(key):\n",
        "  return sha256(bytes(key, 'utf-8')).hexdigest()"
      ]
    },
    {
      "cell_type": "code",
      "execution_count": null,
      "metadata": {
        "colab": {
          "base_uri": "https://localhost:8080/"
        },
        "id": "RMLBJ01LGBhz",
        "outputId": "7b521622-6974-4d45-aa6c-8c5d61f41fd5"
      },
      "outputs": [
        {
          "name": "stdout",
          "output_type": "stream",
          "text": [
            "Round 1\n",
            "Instruction(name='circuit-171', num_qubits=29, num_clbits=29, params=[])\n",
            "Mismatched bits count: 8\n",
            "Matching bases bits count: 15\n",
            "QBER: 0.5333333333333333\n",
            "Mismatched bits count: 8\n",
            "Matching bases bits count: 15\n",
            "This is the 0th key: None\n",
            "This is after amplification: Non-secure key\n",
            "----------------------------------------------------------------------------------------------------------------\n",
            "Round 2\n",
            "Instruction(name='circuit-180', num_qubits=29, num_clbits=29, params=[])\n",
            "Mismatched bits count: 8\n",
            "Matching bases bits count: 17\n",
            "QBER: 0.47058823529411764\n",
            "Mismatched bits count: 8\n",
            "Matching bases bits count: 17\n",
            "This is the 1th key: None\n",
            "This is after amplification: Non-secure key\n",
            "----------------------------------------------------------------------------------------------------------------\n",
            "Round 3\n",
            "Instruction(name='circuit-189', num_qubits=29, num_clbits=29, params=[])\n",
            "Mismatched bits count: 8\n",
            "Matching bases bits count: 15\n",
            "QBER: 0.5333333333333333\n",
            "Mismatched bits count: 8\n",
            "Matching bases bits count: 15\n",
            "This is the 2th key: None\n",
            "This is after amplification: Non-secure key\n",
            "----------------------------------------------------------------------------------------------------------------\n",
            "Round 4\n",
            "Instruction(name='circuit-198', num_qubits=29, num_clbits=29, params=[])\n",
            "Mismatched bits count: 6\n",
            "Matching bases bits count: 13\n",
            "QBER: 0.46153846153846156\n",
            "Mismatched bits count: 6\n",
            "Matching bases bits count: 13\n",
            "This is the 3th key: None\n",
            "This is after amplification: Non-secure key\n",
            "----------------------------------------------------------------------------------------------------------------\n",
            "Round 5\n",
            "Instruction(name='circuit-207', num_qubits=29, num_clbits=29, params=[])\n",
            "Mismatched bits count: 5\n",
            "Matching bases bits count: 11\n",
            "QBER: 0.45454545454545453\n",
            "Mismatched bits count: 5\n",
            "Matching bases bits count: 11\n",
            "This is the 4th key: None\n",
            "This is after amplification: Non-secure key\n",
            "----------------------------------------------------------------------------------------------------------------\n",
            "Round 6\n",
            "Instruction(name='circuit-216', num_qubits=29, num_clbits=29, params=[])\n",
            "Mismatched bits count: 3\n",
            "Matching bases bits count: 14\n",
            "QBER: 0.21428571428571427\n",
            "Mismatched bits count: 3\n",
            "Matching bases bits count: 14\n",
            "This is the 5th key: None\n",
            "This is after amplification: Non-secure key\n",
            "----------------------------------------------------------------------------------------------------------------\n",
            "Round 7\n",
            "Instruction(name='circuit-225', num_qubits=29, num_clbits=29, params=[])\n",
            "Mismatched bits count: 9\n",
            "Matching bases bits count: 12\n",
            "QBER: 0.75\n",
            "Mismatched bits count: 9\n",
            "Matching bases bits count: 12\n",
            "This is the 6th key: None\n",
            "This is after amplification: Non-secure key\n",
            "----------------------------------------------------------------------------------------------------------------\n",
            "Round 8\n",
            "Instruction(name='circuit-234', num_qubits=29, num_clbits=29, params=[])\n",
            "Mismatched bits count: 9\n",
            "Matching bases bits count: 15\n",
            "QBER: 0.6\n",
            "Mismatched bits count: 9\n",
            "Matching bases bits count: 15\n",
            "This is the 7th key: None\n",
            "This is after amplification: Non-secure key\n",
            "----------------------------------------------------------------------------------------------------------------\n",
            "Round 9\n",
            "Instruction(name='circuit-243', num_qubits=29, num_clbits=29, params=[])\n",
            "Mismatched bits count: 9\n",
            "Matching bases bits count: 14\n",
            "QBER: 0.6428571428571429\n",
            "Mismatched bits count: 9\n",
            "Matching bases bits count: 14\n",
            "This is the 8th key: None\n",
            "This is after amplification: Non-secure key\n",
            "----------------------------------------------------------------------------------------------------------------\n",
            "Round 10\n",
            "Instruction(name='circuit-252', num_qubits=29, num_clbits=29, params=[])\n",
            "Mismatched bits count: 16\n",
            "Matching bases bits count: 20\n",
            "QBER: 0.8\n",
            "Mismatched bits count: 16\n",
            "Matching bases bits count: 20\n",
            "This is the 9th key: None\n",
            "This is after amplification: Non-secure key\n",
            "----------------------------------------------------------------------------------------------------------------\n"
          ]
        }
      ],
      "source": [
        "\n",
        "if __name__ == '__main__':\n",
        "  key = bb84()\n",
        "  h = amplification(key) if key != 'None' else 'Non-secure key'\n",
        "  print(\"This is the key: \" + str(key))\n",
        "  print(\"This is after amplification: \" + h) "
      ]
    },
    {
      "cell_type": "code",
      "execution_count": null,
      "metadata": {
        "id": "DkFnFL9D7RKg"
      },
      "outputs": [],
      "source": [
        "class bb84_tester(unittest.TestCase):\n",
        "\n",
        "  def test_random_bits_string(self):\n",
        "    # Check length of a string\n",
        "    self.assertTrue(len(random_bits_string(10))==10)\n",
        "    string = random_bits_string(10)\n",
        "    for s in string:\n",
        "      # Check a string\n",
        "      self.assertTrue(s==\"0\" or s==\"1\")\n",
        "\n",
        "  def test_random_basis(self):\n",
        "    # Check length of basis\n",
        "    self.assertTrue(len(random_basis(10))==10)\n",
        "    basis = random_basis(10)\n",
        "    for b in basis:\n",
        "      # Check a basis\n",
        "      self.assertTrue(b==\"X\" or b==\"Z\")\n",
        "\n",
        "  def test_encode_qubits(self):\n",
        "    bits = \"1010\"\n",
        "    circuit = encode_qubits(bits)\n",
        "    # Check if the correct gates are applied based on the bits\n",
        "    self.assertEqual(circuit.data[0][0].name, 'x')  # First bit is '1', so X gate\n",
        "    self.assertEqual(circuit.data[1][0].name, 'x')  # Third bit is '1', so X gate\n",
        "    self.assertEqual(len(circuit.data), 2) # Only two X gates should be applied\n",
        "\n",
        "  def test_measure_qubits(self):\n",
        "    # Create a simple circuit to test measurement\n",
        "    qc = QuantumCircuit(2)\n",
        "    bob_basis = \"XZ\"\n",
        "    measured_circuit = measure_qubits(qc, bob_basis)\n",
        "\n",
        "    # Check if H gate is applied for 'X' basis\n",
        "    self.assertEqual(measured_circuit.data[0][0].name, 'h')\n",
        "\n",
        "    # Check if measure_all is applied\n",
        "    self.assertEqual(measured_circuit.data[2][0].name, 'measure')\n",
        "\n",
        "\n",
        "  def test_run_simulator(self):\n",
        "    nempty = []\n",
        "    cir = encode_qubits(\"1010\")\n",
        "    circuit = measure_qubits(cir,\"XZXZ\")\n",
        "    result = run_simulator(circuit,nempty)\n",
        "    self.assertTrue(nempty != [])\n",
        "\n",
        "  def test_run_simulator_with_noise(self):\n",
        "    nempty = []\n",
        "    cir = encode_qubits(\"1010\")\n",
        "    circuit = measure_qubits(cir,\"XZXZ\")\n",
        "    result = run_simulator(circuit,nempty)\n",
        "    self.assertTrue(nempty != [])\n",
        "\n",
        "  def test_sift_keys(self):\n",
        "    alice_basis = \"ZZXX\"\n",
        "    bob_basis = \"ZXZX\"\n",
        "    alice_bits = \"0110\"\n",
        "    shift_key = sift_keys(alice_basis, bob_basis, alice_bits)\n",
        "    self.assertEqual(shift_key, \"00\", msg=\"key was created in wrong way\")\n",
        "\n",
        "  def test_qber(self):\n",
        "    bob_data = []\n",
        "    cir = encode_qubits(\"1010\")\n",
        "    circuit = measure_qubits(cir,\"XZXZ\")\n",
        "    run_simulator(circuit, bob_data)\n",
        "    q = qber(\"1010\",bob_data,\"ZXZX\",\"XZXZ\")\n",
        "    qq = qber(\"1010\",bob_data, \"XZXZ\", \"XZXZ\")\n",
        "    self.assertEqual(q, 0.0)\n",
        "    self.assertTrue(qq == 0.0 or qq == 0.25 or qq == 0.5 or qq ==0.75 or qq == 1)\n",
        "\n",
        "  def test_amplification(self):\n",
        "    key = bb84()\n",
        "\n",
        "    if key != 'None':\n",
        "      h = amplification(key)\n",
        "      self.assertTrue(len(h)==64)"
      ]
    },
    {
      "cell_type": "code",
      "execution_count": 20,
      "metadata": {
        "colab": {
          "base_uri": "https://localhost:8080/"
        },
        "id": "KCt0jjA5p4uG",
        "outputId": "6be42193-9ae7-4cff-b5e9-03003680ebb2"
      },
      "outputs": [
        {
          "name": "stdout",
          "output_type": "stream",
          "text": [
            "Instruction(name='circuit-261', num_qubits=29, num_clbits=29, params=[])\n",
            "Mismatched bits count: 5\n",
            "Matching bases bits count: 10\n",
            "QBER: 0.5\n",
            "Mismatched bits count: 5\n",
            "Matching bases bits count: 10\n",
            "This is the 9th key: None\n",
            "This is after amplification: Non-secure key\n"
          ]
        }
      ],
      "source": [
        "if __name__ == '__main__':\n",
        "  key = bb84()\n",
        "  h = amplification(key) if key != 'None' else 'Non-secure key'\n",
        "  print(f\"This is the {i}th key: \" + str(key))\n",
        "  print(\"This is after amplification: \" + h)"
      ]
    },
    {
      "cell_type": "code",
      "execution_count": 21,
      "metadata": {
        "colab": {
          "base_uri": "https://localhost:8080/"
        },
        "id": "GTo1gVs2-bkU",
        "outputId": "12210183-a015-4feb-de34-593f65ff1acc"
      },
      "outputs": [
        {
          "name": "stdout",
          "output_type": "stream",
          "text": [
            "-------------------------------------------------------TEST-------------------------------------------------------------------\n",
            "Instruction(name='circuit-270', num_qubits=29, num_clbits=29, params=[])\n"
          ]
        },
        {
          "name": "stderr",
          "output_type": "stream",
          "text": [
            "./tmp/ipykernel_8900/558058590.py:20: DeprecationWarning: Treating CircuitInstruction as an iterable is deprecated legacy behavior since Qiskit 1.2, and will be removed in Qiskit 3.0. Instead, use the `operation`, `qubits` and `clbits` named attributes.\n",
            "  self.assertEqual(circuit.data[0][0].name, 'x')  # First bit is '1', so X gate\n",
            "/tmp/ipykernel_8900/558058590.py:21: DeprecationWarning: Treating CircuitInstruction as an iterable is deprecated legacy behavior since Qiskit 1.2, and will be removed in Qiskit 3.0. Instead, use the `operation`, `qubits` and `clbits` named attributes.\n",
            "  self.assertEqual(circuit.data[1][0].name, 'x')  # Third bit is '1', so X gate\n",
            "./tmp/ipykernel_8900/558058590.py:32: DeprecationWarning: Treating CircuitInstruction as an iterable is deprecated legacy behavior since Qiskit 1.2, and will be removed in Qiskit 3.0. Instead, use the `operation`, `qubits` and `clbits` named attributes.\n",
            "  self.assertEqual(measured_circuit.data[0][0].name, 'h')\n",
            "/tmp/ipykernel_8900/558058590.py:36: DeprecationWarning: Treating CircuitInstruction as an iterable is deprecated legacy behavior since Qiskit 1.2, and will be removed in Qiskit 3.0. Instead, use the `operation`, `qubits` and `clbits` named attributes.\n",
            "  self.assertEqual(measured_circuit.data[2][0].name, 'measure')\n",
            "."
          ]
        },
        {
          "name": "stdout",
          "output_type": "stream",
          "text": [
            "Mismatched bits count: 13\n",
            "Matching bases bits count: 19\n",
            "QBER: 0.6842105263157895\n",
            "Mismatched bits count: 13\n",
            "Matching bases bits count: 19\n",
            "Instruction(name='circuit-279', num_qubits=4, num_clbits=4, params=[])\n",
            "Instruction(name='circuit-283', num_qubits=4, num_clbits=4, params=[])\n"
          ]
        },
        {
          "name": "stderr",
          "output_type": "stream",
          "text": [
            "..."
          ]
        },
        {
          "name": "stdout",
          "output_type": "stream",
          "text": [
            "Mismatched bits count: 4\n",
            "Matching bases bits count: 4\n",
            "Instruction(name='circuit-287', num_qubits=4, num_clbits=4, params=[])\n"
          ]
        },
        {
          "name": "stderr",
          "output_type": "stream",
          "text": [
            "."
          ]
        },
        {
          "name": "stdout",
          "output_type": "stream",
          "text": [
            "Instruction(name='circuit-291', num_qubits=4, num_clbits=4, params=[])\n"
          ]
        },
        {
          "name": "stderr",
          "output_type": "stream",
          "text": [
            "..\n",
            "----------------------------------------------------------------------\n",
            "Ran 9 tests in 1.834s\n",
            "\n",
            "OK\n"
          ]
        }
      ],
      "source": [
        "if __name__ == '__main__':\n",
        "  print(\"-------------------------------------------------------TEST-------------------------------------------------------------------\")\n",
        "  unittest.main(argv=[\"\"], exit=False)"
      ]
    }
  ],
  "metadata": {
    "colab": {
      "provenance": []
    },
    "kernelspec": {
      "display_name": ".venv",
      "language": "python",
      "name": "python3"
    },
    "language_info": {
      "codemirror_mode": {
        "name": "ipython",
        "version": 3
      },
      "file_extension": ".py",
      "mimetype": "text/x-python",
      "name": "python",
      "nbconvert_exporter": "python",
      "pygments_lexer": "ipython3",
      "version": "3.12.3"
    }
  },
  "nbformat": 4,
  "nbformat_minor": 0
}
