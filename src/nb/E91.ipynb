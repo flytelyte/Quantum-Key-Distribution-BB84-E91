{
  "cells": [
    {
      "cell_type": "code",
      "execution_count": 1,
      "metadata": {
        "colab": {
          "base_uri": "https://localhost:8080/"
        },
        "id": "SwJ-XpHLOhnl",
        "outputId": "ef100ed4-3750-4b8e-fbbe-31903d331566"
      },
      "outputs": [
        {
          "name": "stdout",
          "output_type": "stream",
          "text": [
            "Requirement already satisfied: qiskit in /home/yuki-oshiro/Desktop/qkd_protocols_v2/src/notebooks/.venv/lib/python3.12/site-packages (2.1.2)\n",
            "Requirement already satisfied: rustworkx>=0.15.0 in /home/yuki-oshiro/Desktop/qkd_protocols_v2/src/notebooks/.venv/lib/python3.12/site-packages (from qiskit) (0.17.1)\n",
            "Requirement already satisfied: numpy<3,>=1.17 in /home/yuki-oshiro/Desktop/qkd_protocols_v2/src/notebooks/.venv/lib/python3.12/site-packages (from qiskit) (2.3.2)\n",
            "Requirement already satisfied: scipy>=1.5 in /home/yuki-oshiro/Desktop/qkd_protocols_v2/src/notebooks/.venv/lib/python3.12/site-packages (from qiskit) (1.16.1)\n",
            "Requirement already satisfied: dill>=0.3 in /home/yuki-oshiro/Desktop/qkd_protocols_v2/src/notebooks/.venv/lib/python3.12/site-packages (from qiskit) (0.4.0)\n",
            "Requirement already satisfied: stevedore>=3.0.0 in /home/yuki-oshiro/Desktop/qkd_protocols_v2/src/notebooks/.venv/lib/python3.12/site-packages (from qiskit) (5.5.0)\n",
            "Requirement already satisfied: typing-extensions in /home/yuki-oshiro/Desktop/qkd_protocols_v2/src/notebooks/.venv/lib/python3.12/site-packages (from qiskit) (4.15.0)\n",
            "Note: you may need to restart the kernel to use updated packages.\n"
          ]
        }
      ],
      "source": [
        "pip install qiskit"
      ]
    },
    {
      "cell_type": "code",
      "execution_count": 2,
      "metadata": {
        "colab": {
          "base_uri": "https://localhost:8080/"
        },
        "id": "FDf80rsFPeNC",
        "outputId": "1a39c738-409c-48a0-a47e-80977cc80bd7"
      },
      "outputs": [
        {
          "name": "stdout",
          "output_type": "stream",
          "text": [
            "Requirement already satisfied: qiskit_aer in /home/yuki-oshiro/Desktop/qkd_protocols_v2/src/notebooks/.venv/lib/python3.12/site-packages (0.17.1)\n",
            "Requirement already satisfied: qiskit>=1.1.0 in /home/yuki-oshiro/Desktop/qkd_protocols_v2/src/notebooks/.venv/lib/python3.12/site-packages (from qiskit_aer) (2.1.2)\n",
            "Requirement already satisfied: numpy>=1.16.3 in /home/yuki-oshiro/Desktop/qkd_protocols_v2/src/notebooks/.venv/lib/python3.12/site-packages (from qiskit_aer) (2.3.2)\n",
            "Requirement already satisfied: scipy>=1.0 in /home/yuki-oshiro/Desktop/qkd_protocols_v2/src/notebooks/.venv/lib/python3.12/site-packages (from qiskit_aer) (1.16.1)\n",
            "Requirement already satisfied: psutil>=5 in /home/yuki-oshiro/Desktop/qkd_protocols_v2/src/notebooks/.venv/lib/python3.12/site-packages (from qiskit_aer) (7.0.0)\n",
            "Requirement already satisfied: python-dateutil>=2.8.0 in /home/yuki-oshiro/Desktop/qkd_protocols_v2/src/notebooks/.venv/lib/python3.12/site-packages (from qiskit_aer) (2.9.0.post0)\n",
            "Requirement already satisfied: six>=1.5 in /home/yuki-oshiro/Desktop/qkd_protocols_v2/src/notebooks/.venv/lib/python3.12/site-packages (from python-dateutil>=2.8.0->qiskit_aer) (1.17.0)\n",
            "Requirement already satisfied: rustworkx>=0.15.0 in /home/yuki-oshiro/Desktop/qkd_protocols_v2/src/notebooks/.venv/lib/python3.12/site-packages (from qiskit>=1.1.0->qiskit_aer) (0.17.1)\n",
            "Requirement already satisfied: dill>=0.3 in /home/yuki-oshiro/Desktop/qkd_protocols_v2/src/notebooks/.venv/lib/python3.12/site-packages (from qiskit>=1.1.0->qiskit_aer) (0.4.0)\n",
            "Requirement already satisfied: stevedore>=3.0.0 in /home/yuki-oshiro/Desktop/qkd_protocols_v2/src/notebooks/.venv/lib/python3.12/site-packages (from qiskit>=1.1.0->qiskit_aer) (5.5.0)\n",
            "Requirement already satisfied: typing-extensions in /home/yuki-oshiro/Desktop/qkd_protocols_v2/src/notebooks/.venv/lib/python3.12/site-packages (from qiskit>=1.1.0->qiskit_aer) (4.15.0)\n",
            "Note: you may need to restart the kernel to use updated packages.\n"
          ]
        }
      ],
      "source": [
        "pip install qiskit_aer"
      ]
    },
    {
      "cell_type": "code",
      "execution_count": 3,
      "metadata": {
        "colab": {
          "base_uri": "https://localhost:8080/"
        },
        "id": "dC6PpyIBPozM",
        "outputId": "aecbd5d3-974b-4ac0-a976-63c2ef1135b7"
      },
      "outputs": [
        {
          "name": "stdout",
          "output_type": "stream",
          "text": [
            "Requirement already satisfied: qiskit_ibm_runtime in /home/yuki-oshiro/Desktop/qkd_protocols_v2/src/notebooks/.venv/lib/python3.12/site-packages (0.41.1)\n",
            "Requirement already satisfied: requests>=2.19 in /home/yuki-oshiro/Desktop/qkd_protocols_v2/src/notebooks/.venv/lib/python3.12/site-packages (from qiskit_ibm_runtime) (2.32.5)\n",
            "Requirement already satisfied: requests-ntlm>=1.1.0 in /home/yuki-oshiro/Desktop/qkd_protocols_v2/src/notebooks/.venv/lib/python3.12/site-packages (from qiskit_ibm_runtime) (1.3.0)\n",
            "Requirement already satisfied: numpy>=1.13 in /home/yuki-oshiro/Desktop/qkd_protocols_v2/src/notebooks/.venv/lib/python3.12/site-packages (from qiskit_ibm_runtime) (2.3.2)\n",
            "Requirement already satisfied: urllib3>=1.21.1 in /home/yuki-oshiro/Desktop/qkd_protocols_v2/src/notebooks/.venv/lib/python3.12/site-packages (from qiskit_ibm_runtime) (2.5.0)\n",
            "Requirement already satisfied: python-dateutil>=2.8.0 in /home/yuki-oshiro/Desktop/qkd_protocols_v2/src/notebooks/.venv/lib/python3.12/site-packages (from qiskit_ibm_runtime) (2.9.0.post0)\n",
            "Requirement already satisfied: ibm-platform-services>=0.22.6 in /home/yuki-oshiro/Desktop/qkd_protocols_v2/src/notebooks/.venv/lib/python3.12/site-packages (from qiskit_ibm_runtime) (0.68.2)\n",
            "Requirement already satisfied: pydantic>=2.5.0 in /home/yuki-oshiro/Desktop/qkd_protocols_v2/src/notebooks/.venv/lib/python3.12/site-packages (from qiskit_ibm_runtime) (2.11.7)\n",
            "Requirement already satisfied: qiskit>=1.4.1 in /home/yuki-oshiro/Desktop/qkd_protocols_v2/src/notebooks/.venv/lib/python3.12/site-packages (from qiskit_ibm_runtime) (2.1.2)\n",
            "Requirement already satisfied: packaging in /home/yuki-oshiro/Desktop/qkd_protocols_v2/src/notebooks/.venv/lib/python3.12/site-packages (from qiskit_ibm_runtime) (25.0)\n",
            "Requirement already satisfied: ibm_cloud_sdk_core<4.0.0,>=3.24.2 in /home/yuki-oshiro/Desktop/qkd_protocols_v2/src/notebooks/.venv/lib/python3.12/site-packages (from ibm-platform-services>=0.22.6->qiskit_ibm_runtime) (3.24.2)\n",
            "Requirement already satisfied: PyJWT<3.0.0,>=2.10.1 in /home/yuki-oshiro/Desktop/qkd_protocols_v2/src/notebooks/.venv/lib/python3.12/site-packages (from ibm_cloud_sdk_core<4.0.0,>=3.24.2->ibm-platform-services>=0.22.6->qiskit_ibm_runtime) (2.10.1)\n",
            "Requirement already satisfied: six>=1.5 in /home/yuki-oshiro/Desktop/qkd_protocols_v2/src/notebooks/.venv/lib/python3.12/site-packages (from python-dateutil>=2.8.0->qiskit_ibm_runtime) (1.17.0)\n",
            "Requirement already satisfied: charset_normalizer<4,>=2 in /home/yuki-oshiro/Desktop/qkd_protocols_v2/src/notebooks/.venv/lib/python3.12/site-packages (from requests>=2.19->qiskit_ibm_runtime) (3.4.3)\n",
            "Requirement already satisfied: idna<4,>=2.5 in /home/yuki-oshiro/Desktop/qkd_protocols_v2/src/notebooks/.venv/lib/python3.12/site-packages (from requests>=2.19->qiskit_ibm_runtime) (3.10)\n",
            "Requirement already satisfied: certifi>=2017.4.17 in /home/yuki-oshiro/Desktop/qkd_protocols_v2/src/notebooks/.venv/lib/python3.12/site-packages (from requests>=2.19->qiskit_ibm_runtime) (2025.8.3)\n",
            "Requirement already satisfied: annotated-types>=0.6.0 in /home/yuki-oshiro/Desktop/qkd_protocols_v2/src/notebooks/.venv/lib/python3.12/site-packages (from pydantic>=2.5.0->qiskit_ibm_runtime) (0.7.0)\n",
            "Requirement already satisfied: pydantic-core==2.33.2 in /home/yuki-oshiro/Desktop/qkd_protocols_v2/src/notebooks/.venv/lib/python3.12/site-packages (from pydantic>=2.5.0->qiskit_ibm_runtime) (2.33.2)\n",
            "Requirement already satisfied: typing-extensions>=4.12.2 in /home/yuki-oshiro/Desktop/qkd_protocols_v2/src/notebooks/.venv/lib/python3.12/site-packages (from pydantic>=2.5.0->qiskit_ibm_runtime) (4.15.0)\n",
            "Requirement already satisfied: typing-inspection>=0.4.0 in /home/yuki-oshiro/Desktop/qkd_protocols_v2/src/notebooks/.venv/lib/python3.12/site-packages (from pydantic>=2.5.0->qiskit_ibm_runtime) (0.4.1)\n",
            "Requirement already satisfied: rustworkx>=0.15.0 in /home/yuki-oshiro/Desktop/qkd_protocols_v2/src/notebooks/.venv/lib/python3.12/site-packages (from qiskit>=1.4.1->qiskit_ibm_runtime) (0.17.1)\n",
            "Requirement already satisfied: scipy>=1.5 in /home/yuki-oshiro/Desktop/qkd_protocols_v2/src/notebooks/.venv/lib/python3.12/site-packages (from qiskit>=1.4.1->qiskit_ibm_runtime) (1.16.1)\n",
            "Requirement already satisfied: dill>=0.3 in /home/yuki-oshiro/Desktop/qkd_protocols_v2/src/notebooks/.venv/lib/python3.12/site-packages (from qiskit>=1.4.1->qiskit_ibm_runtime) (0.4.0)\n",
            "Requirement already satisfied: stevedore>=3.0.0 in /home/yuki-oshiro/Desktop/qkd_protocols_v2/src/notebooks/.venv/lib/python3.12/site-packages (from qiskit>=1.4.1->qiskit_ibm_runtime) (5.5.0)\n",
            "Requirement already satisfied: cryptography>=1.3 in /home/yuki-oshiro/Desktop/qkd_protocols_v2/src/notebooks/.venv/lib/python3.12/site-packages (from requests-ntlm>=1.1.0->qiskit_ibm_runtime) (45.0.6)\n",
            "Requirement already satisfied: pyspnego>=0.4.0 in /home/yuki-oshiro/Desktop/qkd_protocols_v2/src/notebooks/.venv/lib/python3.12/site-packages (from requests-ntlm>=1.1.0->qiskit_ibm_runtime) (0.11.2)\n",
            "Requirement already satisfied: cffi>=1.14 in /home/yuki-oshiro/Desktop/qkd_protocols_v2/src/notebooks/.venv/lib/python3.12/site-packages (from cryptography>=1.3->requests-ntlm>=1.1.0->qiskit_ibm_runtime) (1.17.1)\n",
            "Requirement already satisfied: pycparser in /home/yuki-oshiro/Desktop/qkd_protocols_v2/src/notebooks/.venv/lib/python3.12/site-packages (from cffi>=1.14->cryptography>=1.3->requests-ntlm>=1.1.0->qiskit_ibm_runtime) (2.22)\n",
            "Note: you may need to restart the kernel to use updated packages.\n"
          ]
        }
      ],
      "source": [
        "pip install qiskit_ibm_runtime"
      ]
    },
    {
      "cell_type": "markdown",
      "metadata": {
        "id": "pThorllLOoLg"
      },
      "source": [
        "#Pseudocode for E91 quantum key distribution protocol"
      ]
    },
    {
      "cell_type": "markdown",
      "metadata": {
        "id": "pb_t6WKqO6SI"
      },
      "source": [
        "```\n",
        "Initialize:\n",
        "  Source generates entangled photon pairs in singlet state |Ψ−⟩\n",
        "  One photon goes to Alice, the other to Bob.\n",
        "\n",
        "For each entangled pair:\n",
        "  Alice randomly chooses one of 3 measurement bases (A1, A2, A3).\n",
        "  Bob randomly chooses one of 3 measurement bases (B1, B2, B3).\n",
        "  Alice measures her photon, records basis + result.\n",
        "  Bob measures his photon, records basis + result.\n",
        "\n",
        "After many rounds:\n",
        "  1. Alice and Bob publicly announce which bases they used.\n",
        "  2. They keep only results where their basis choices are *correlated*:\n",
        "       - Some subsets are used to form the raw key.\n",
        "       - Other subsets are used to test Bell’s inequality (CHSH test).\n",
        "\n",
        "Bell test phase:\n",
        "  Compare outcomes from certain basis combinations.\n",
        "  Compute CHSH correlation value S.\n",
        "  If |S| > 2 (classical limit) → confirms quantum entanglement, no eavesdropper.\n",
        "  If |S| ≤ 2 → possible eavesdropping or noise, discard session.\n",
        "\n",
        "Key distillation:\n",
        "  From correlated outcomes, extract raw key bits.\n",
        "  Apply error correction + privacy amplification to get final secret key. <have not implemented yet>\n",
        "\n",
        "```"
      ]
    },
    {
      "cell_type": "code",
      "execution_count": 5,
      "metadata": {
        "id": "mx-xJkWWkPS5"
      },
      "outputs": [],
      "source": [
        "from qiskit import QuantumCircuit\n",
        "import numpy as np\n",
        "from qiskit_aer import AerSimulator, QasmSimulator\n",
        "from random import choice\n",
        "\n",
        "# For testing\n",
        "import unittest"
      ]
    },
    {
      "cell_type": "code",
      "execution_count": 6,
      "metadata": {
        "id": "F-1XRx46LX1k"
      },
      "outputs": [],
      "source": [
        "ALICE_BASIS = [0.0, np.pi/4, np.pi/2]\n",
        "BOB_BASIS = [np.pi/8, -np.pi/8, np.pi/4]"
      ]
    },
    {
      "cell_type": "code",
      "execution_count": null,
      "metadata": {
        "id": "K8ux0ENhDsL0"
      },
      "outputs": [],
      "source": [
        "''' Prepare singret qubit\n",
        "    Return: \n",
        "\t\t\tqc: Singlet qubit \n",
        "'''\n",
        "\n",
        "def singlet():\n",
        "  qc = QuantumCircuit(2,2)\n",
        "  qc.h(0)\n",
        "  qc.cx(0,1)\n",
        "  qc.z(0)\n",
        "  qc.x(1)\n",
        "  return qc"
      ]
    },
    {
      "cell_type": "code",
      "execution_count": null,
      "metadata": {
        "id": "yCwmEKX8la6G"
      },
      "outputs": [],
      "source": [
        "''' \n",
        "  Args: \n",
        "\t\t\tqc (QuantumCircuit) : Qubit to be measured \n",
        "\t\t\tqubit (int) : Indicate which qreg is measured \n",
        "\t\t\tangle (float) : One of the angles in ALICE_BASIS or BOB_BASIS cbit\n",
        "\t\t\tcbit (int) : Indicate which creg stores data\n",
        "'''\n",
        "\n",
        "def measure_in_basis(qc, qubit, angle, cbit):\n",
        "  qc.ry(angle, qubit)\n",
        "  qc.measure(qubit,cbit)"
      ]
    },
    {
      "cell_type": "code",
      "execution_count": null,
      "metadata": {
        "id": "M-KCRdpRO5J-"
      },
      "outputs": [],
      "source": [
        "'''\n",
        "  Arg:\n",
        "    num_pair (int) : Number of paits to run\n",
        "\n",
        "  Return:\n",
        "    A set of (list) : Outcomes and choice of basis\n",
        "'''\n",
        "\n",
        "def e91(num_pair):\n",
        "  backend = AerSimulator()\n",
        "  #backend = QasmSimulator()\n",
        "  alice_bits, bob_bits = [], []\n",
        "  alice_choices, bob_choices = [], []\n",
        "\n",
        "  for _ in range(num_pair):\n",
        "    qc = singlet()\n",
        "    a_choice = choice(range(3))\n",
        "    b_choice = choice(range(3))\n",
        "\n",
        "    measure_in_basis(qc, 0, ALICE_BASIS[a_choice], 0)\n",
        "    measure_in_basis(qc, 1, BOB_BASIS[b_choice], 1)\n",
        "\n",
        "    result = backend.run(qc, memory=True).result()\n",
        "    shot = result.get_memory()[0]\n",
        "\n",
        "    b_bit = int(shot[0])\n",
        "    a_bit = int(shot[1])\n",
        "\n",
        "    alice_bits.append(a_bit)\n",
        "    bob_bits.append(b_bit)\n",
        "    alice_choices.append(a_choice)\n",
        "    bob_choices.append(b_choice)\n",
        "\n",
        "  return alice_bits, bob_bits, alice_choices, bob_choices\n"
      ]
    },
    {
      "cell_type": "code",
      "execution_count": null,
      "metadata": {
        "id": "Y8-l9TjzPGC1"
      },
      "outputs": [],
      "source": [
        "''' CHSH computation helpers, testing for valid cryptographic key '''\n",
        "\n",
        "'''\n",
        "\tArg:\n",
        "\t\tbits (list) : A list of binary data  \n",
        "'''\n",
        "\n",
        "def bits_to_pm1(bits):\n",
        "  return np.array([+1 if b == 0 else -1 for b in bits], dtype=float)\n",
        "\n",
        "'''\n",
        "\tArgs:\n",
        "\t\ta_bits (list) : Alice's selected bits \n",
        "\t\tb_bits (list) : Bob's selected bits\n",
        "\n",
        "\tReturn:\n",
        "\t\t(float) : A value for Es\n",
        "'''\n",
        "\n",
        "def correlation(a_bits, b_bits):\n",
        "  A = bits_to_pm1(a_bits)\n",
        "  B = bits_to_pm1(b_bits)\n",
        "\n",
        "  if len(A) == 0:\n",
        "    return np.nan\n",
        "  return float(np.mean(A*B))\n",
        "\n",
        "''' Choose subset of outcomes '''\n",
        "'''\n",
        "\tArgs:\n",
        "\t\ta_bits (list) : Alice's bit string\n",
        "\t\tb_bits (list) : Bob's bit string\n",
        "\t\ta_choices (list) : Alice's choices in range(3)\n",
        "\t\tb_choices (list) : Bob's choices in range(3)\n",
        "\t\ta_idx : An index number for Alice\n",
        "\t\tb_idx : An index number for Bob\n",
        "\n",
        "\tReturn:\n",
        "\t\tSubsets of thier choices and its indeces\n",
        "'''\n",
        "\n",
        "def select_subset_and_indices(a_bits, b_bits, a_choices, b_choices, a_idx, b_idx):\n",
        "  selection_indices = [i for i,(ac,bc) in enumerate(zip(a_choices, b_choices)) if ac == a_idx and bc == b_idx]\n",
        "  a_subset = [a_bits[i] for i in selection_indices]\n",
        "  b_subset = [b_bits[i] for i in selection_indices]\n",
        "  return a_subset, b_subset, selection_indices\n",
        "\n",
        "'''\n",
        "\tArgs:\n",
        "\t\talice_bits (list) : Alice's bit string\n",
        "\t\tbob_bits (list) : Bob's bit string\n",
        "\t\talice_choices (list) : Alice's choices in range(3)\n",
        "\t\tbob_choices (list) : Bob's choices in range(3)\n",
        "\n",
        "\tReturn:\n",
        "\t\tS (float) : A CHSH value\n",
        "\t\tEs (list) : A set of values for computing S  \n",
        "\t\tkey (list) : The probably secure key \n",
        "'''\n",
        "\n",
        "def compute_chsh(alice_bits, bob_bits, alice_choices, bob_choices):\n",
        "\n",
        "#  CHSH S = E(A1,B1) + E(A1,B3) + E(A3,B1) - E(A3,B3)\n",
        "#  using indices A1=0,A3=2,B1=0,B3=2\n",
        "\n",
        "  pairs = [(0,0), (0,2), (2,0), (2,2)]\n",
        "  Es = []\n",
        "  chsh_indices = set()\n",
        "\n",
        "  for a_idx, b_idx in pairs:\n",
        "    a_subset, b_subset, selection_indices = select_subset_and_indices(alice_bits, bob_bits, alice_choices, bob_choices, a_idx, b_idx)\n",
        "    Es.append(correlation(a_subset, b_subset))\n",
        "    chsh_indices.update(selection_indices)\n",
        "\n",
        "\n",
        "  E11, E13, E31, E33 = Es\n",
        "  S = E11+E13+E31-E33\n",
        "\n",
        "  # Create the key by excluding the CHSH indices\n",
        "  key = [alice_bits[i] for i in range(len(alice_bits)) if i not in chsh_indices]\n",
        "\n",
        "  return S, Es, key"
      ]
    },
    {
      "cell_type": "code",
      "execution_count": 11,
      "metadata": {
        "colab": {
          "base_uri": "https://localhost:8080/"
        },
        "id": "KgtxC9eyJZiE",
        "outputId": "01a3026e-b61b-4916-f822-12951c55aafd"
      },
      "outputs": [
        {
          "name": "stdout",
          "output_type": "stream",
          "text": [
            "CHSH S = -0.78\n",
            "[-0.8823529411764706, -0.25, -0.42857142857142855, -0.7777777777777778]\n",
            "[1, 1, 0, 0, 1, 1, 1, 1, 0, 0, 1, 0, 0, 1, 1, 1, 1, 1, 0, 1, 1, 0, 1, 1, 0, 0, 0, 1, 0, 0, 0, 0, 0, 0, 0, 0, 1, 1, 1, 0, 0, 1, 1, 0, 1, 0, 0, 0, 0, 1, 0, 1, 1, 1, 1, 1, 0, 1, 0]\n"
          ]
        }
      ],
      "source": [
        "if __name__ == \"__main__\":\n",
        "  a_bits, b_bits, a_choices, b_choices = e91(num_pair=100)\n",
        "  S, Es, k = compute_chsh(a_bits, b_bits, a_choices, b_choices)\n",
        "  print(f\"CHSH S = {S:.2f}\")\n",
        "  print(f\"{Es}\")\n",
        "  print(k)\n"
      ]
    },
    {
      "cell_type": "code",
      "execution_count": null,
      "metadata": {
        "id": "1tGPBS6RQYap"
      },
      "outputs": [],
      "source": [
        "''' The unit test would be about CHSH with and without noise or eavesdropper :S < 2 for ideal simulation, else S > 2 could be '''\n",
        "\n",
        "class TestProtocol(unittest.TestCase):\n",
        "\n",
        "  def test_protocol(self):\n",
        "\n",
        "      a_bits, b_bits, a_choices, b_choices = e91(num_pair=100)\n",
        "      S, Es, k = compute_chsh(a_bits, b_bits, a_choices, b_choices)\n",
        "      s = abs(S)\n",
        "      print(s)\n",
        "      self.assertTrue(s<2,msg=f\"{S} is not less than 2\")"
      ]
    },
    {
      "cell_type": "code",
      "execution_count": 13,
      "metadata": {
        "colab": {
          "base_uri": "https://localhost:8080/"
        },
        "id": "bxGXbYjLG-tc",
        "outputId": "0b9884e6-a3b2-4b17-e162-e25138e4e123"
      },
      "outputs": [
        {
          "name": "stderr",
          "output_type": "stream",
          "text": [
            ".\n",
            "----------------------------------------------------------------------\n",
            "Ran 1 test in 1.462s\n",
            "\n",
            "OK\n"
          ]
        },
        {
          "name": "stdout",
          "output_type": "stream",
          "text": [
            "1.2777777777777777\n"
          ]
        },
        {
          "name": "stderr",
          "output_type": "stream",
          "text": [
            ".\n",
            "----------------------------------------------------------------------\n",
            "Ran 1 test in 1.302s\n",
            "\n",
            "OK\n"
          ]
        },
        {
          "name": "stdout",
          "output_type": "stream",
          "text": [
            "1.5265151515151514\n"
          ]
        },
        {
          "name": "stderr",
          "output_type": "stream",
          "text": [
            ".\n",
            "----------------------------------------------------------------------\n",
            "Ran 1 test in 0.874s\n",
            "\n",
            "OK\n"
          ]
        },
        {
          "name": "stdout",
          "output_type": "stream",
          "text": [
            "1.5384615384615383\n"
          ]
        },
        {
          "name": "stderr",
          "output_type": "stream",
          "text": [
            ".\n",
            "----------------------------------------------------------------------\n",
            "Ran 1 test in 1.146s\n",
            "\n",
            "OK\n"
          ]
        },
        {
          "name": "stdout",
          "output_type": "stream",
          "text": [
            "1.507936507936508\n"
          ]
        },
        {
          "name": "stderr",
          "output_type": "stream",
          "text": [
            ".\n",
            "----------------------------------------------------------------------\n",
            "Ran 1 test in 1.659s\n",
            "\n",
            "OK\n"
          ]
        },
        {
          "name": "stdout",
          "output_type": "stream",
          "text": [
            "1.470238095238095\n"
          ]
        },
        {
          "name": "stderr",
          "output_type": "stream",
          "text": [
            ".\n",
            "----------------------------------------------------------------------\n",
            "Ran 1 test in 1.702s\n",
            "\n",
            "OK\n"
          ]
        },
        {
          "name": "stdout",
          "output_type": "stream",
          "text": [
            "0.851981351981352\n"
          ]
        },
        {
          "name": "stderr",
          "output_type": "stream",
          "text": [
            ".\n",
            "----------------------------------------------------------------------\n",
            "Ran 1 test in 1.768s\n",
            "\n",
            "OK\n"
          ]
        },
        {
          "name": "stdout",
          "output_type": "stream",
          "text": [
            "1.0666666666666669\n"
          ]
        },
        {
          "name": "stderr",
          "output_type": "stream",
          "text": [
            ".\n",
            "----------------------------------------------------------------------\n",
            "Ran 1 test in 2.383s\n",
            "\n",
            "OK\n"
          ]
        },
        {
          "name": "stdout",
          "output_type": "stream",
          "text": [
            "0.9166666666666665\n"
          ]
        },
        {
          "name": "stderr",
          "output_type": "stream",
          "text": [
            ".\n",
            "----------------------------------------------------------------------\n",
            "Ran 1 test in 1.180s\n",
            "\n",
            "OK\n"
          ]
        },
        {
          "name": "stdout",
          "output_type": "stream",
          "text": [
            "1.0404040404040407\n"
          ]
        },
        {
          "name": "stderr",
          "output_type": "stream",
          "text": [
            ".\n",
            "----------------------------------------------------------------------\n",
            "Ran 1 test in 1.141s\n",
            "\n",
            "OK\n"
          ]
        },
        {
          "name": "stdout",
          "output_type": "stream",
          "text": [
            "1.849859943977591\n"
          ]
        }
      ],
      "source": [
        "if __name__ == '__main__':\n",
        "  for i in range(10):\n",
        "    unittest.main(argv=[\"\"], exit=False)"
      ]
    }
  ],
  "metadata": {
    "colab": {
      "provenance": []
    },
    "kernelspec": {
      "display_name": ".venv",
      "language": "python",
      "name": "python3"
    },
    "language_info": {
      "codemirror_mode": {
        "name": "ipython",
        "version": 3
      },
      "file_extension": ".py",
      "mimetype": "text/x-python",
      "name": "python",
      "nbconvert_exporter": "python",
      "pygments_lexer": "ipython3",
      "version": "3.12.3"
    }
  },
  "nbformat": 4,
  "nbformat_minor": 0
}
