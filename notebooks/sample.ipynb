print("This is sample for Jupyter notebook under notebooks directory")
